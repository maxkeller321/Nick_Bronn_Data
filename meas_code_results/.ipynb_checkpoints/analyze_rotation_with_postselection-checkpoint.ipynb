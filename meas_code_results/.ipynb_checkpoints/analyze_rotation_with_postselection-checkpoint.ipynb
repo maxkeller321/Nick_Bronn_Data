{
 "cells": [
  {
   "cell_type": "code",
   "execution_count": 19,
   "metadata": {},
   "outputs": [],
   "source": [
    "import pandas as pa\n",
    "import matplotlib.pyplot as plt \n",
    "import numpy as np\n",
    "%matplotlib inline\n",
    "\n",
    "def find_nearest(array, value):\n",
    "    array = np.asarray(array)\n",
    "    idx = (np.abs(array - value)).argmin()\n",
    "    return array[idx]\n",
    "\n",
    "\n",
    "def plot_and_calculate_postselected_readout_with_charge_state(trace): \n",
    "    \"\"\"\n",
    "        Does a postselection after the swap initialisation and a charge state postselection. \n",
    "        The ssr_charge_thres thresholds is optimized for a orange duration of 800 mus \n",
    "    \"\"\"\n",
    "    \n",
    "    ssr_nuclear_thres = -5 \n",
    "    ssr_charge_thres = 3\n",
    "    charge_state_trace = trace[2::5]\n",
    "    readout_trace_1 = trace[3::5]\n",
    "    readout_trace_2 = trace[4::5]\n",
    "    readout_trace_filtered_1 = readout_trace_1[trace[0::5]-trace[1::5]<ssr_nuclear_thres]\n",
    "    readout_trace_filtered_2 = readout_trace_2[trace[0::5]-trace[1::5]<ssr_nuclear_thres]\n",
    "    postselected_charge_state_trace = charge_state_trace[trace[0::5]-trace[1::5]<ssr_nuclear_thres]\n",
    "    subtracted_array = readout_trace_filtered_1-readout_trace_filtered_2\n",
    "    subtracted_charge_post_array = subtracted_array[postselected_charge_state_trace >=ssr_charge_thres]\n",
    "    \n",
    "    n = plt.hist(subtracted_charge_post_array, bins=300)\n",
    "    plt.show()\n",
    "\n",
    "    print(\"The population is: {}\".format(np.sum(n[0][0:np.where(n[1] == find_nearest(n[1], 0.0))[0][0]])/np.sum(n[0])))\n"
   ]
  },
  {
   "cell_type": "code",
   "execution_count": 20,
   "metadata": {},
   "outputs": [],
   "source": [
    "hd = pa.read_hdf(\"data.hdf\")\n",
    "hd\n",
    "trace = np.array([])\n",
    "rotating_14n_data = hd.loc[hd.rotating_qubit == '14n'].trace\n",
    "rotating_13c90_data = hd.loc[hd.rotating_qubit == '13c90'].trace\n",
    "rotating_13c414_data = hd.loc[hd.rotating_qubit == '13c414'].trace\n",
    "\n",
    "trace_13c90_rotating = np.array([])\n",
    "trace_14n_rotating = np.array([])\n",
    "trace_13c414_rotating = np.array([])\n",
    "\n",
    "\n",
    "for i in rotating_13c90_data:\n",
    "    trace_13c90_rotating = np.append(trace_13c90_rotating, i)\n",
    "    \n",
    "for i in rotating_14n_data: \n",
    "    trace_14n_rotating = np.append(trace_14n_rotating, i)\n",
    "    \n",
    "for i in rotating_13c414_data: \n",
    "    trace_13c414_rotating = np.append(trace_13c414_rotating, i)\n",
    "    \n"
   ]
  },
  {
   "cell_type": "code",
   "execution_count": 21,
   "metadata": {},
   "outputs": [
    {
     "data": {
      "image/png": "[encoded data removed]",
      "text/plain": [
       "<matplotlib.figure.Figure at 0x117d24a50>"
      ]
     },
     "metadata": {},
     "output_type": "display_data"
    },
    {
     "name": "stdout",
     "output_type": "stream",
     "text": [
      "The population is: 0.870533402382\n"
     ]
    }
   ],
   "source": [
    "trace = trace_13c414_rotating\n",
    "\n",
    "plot_and_calculate_population_with_postselection(trace)"
   ]
  },
  {
   "cell_type": "code",
   "execution_count": null,
   "metadata": {
    "collapsed": true
   },
   "outputs": [],
   "source": []
  }
 ],
 "metadata": {
  "kernelspec": {
   "display_name": "Python 2",
   "language": "python",
   "name": "python2"
  },
  "language_info": {
   "codemirror_mode": {
    "name": "ipython",
    "version": 2
   },
   "file_extension": ".py",
   "mimetype": "text/x-python",
   "name": "python",
   "nbconvert_exporter": "python",
   "pygments_lexer": "ipython2",
   "version": "2.7.16"
  }
 },
 "nbformat": 4,
 "nbformat_minor": 2
}
